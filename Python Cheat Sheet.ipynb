{
 "cells": [
  {
   "cell_type": "markdown",
   "metadata": {},
   "source": [
    "# Sorting"
   ]
  },
  {
   "cell_type": "markdown",
   "metadata": {},
   "source": [
    "lists can be sorted with .sort() or sorted()\n",
    "sorted() returns the sorted list and leaves the original list unsorted\n",
    ".sort does not return anything"
   ]
  },
  {
   "cell_type": "code",
   "execution_count": 4,
   "metadata": {
    "scrolled": true
   },
   "outputs": [
    {
     "name": "stdout",
     "output_type": "stream",
     "text": [
      "['a', 'b', 'c', 'd']\n",
      "['b', 'a', 'd', 'c']\n",
      "None\n",
      "['a', 'b', 'c', 'd']\n"
     ]
    }
   ],
   "source": [
    "# difference between .sort() and sorted()\n",
    "ls = ['b', 'a', 'd', 'c']\n",
    "print(sorted(ls))\n",
    "print(ls)\n",
    "\n",
    "print(ls.sort())\n",
    "print(ls)"
   ]
  },
  {
   "cell_type": "markdown",
   "metadata": {},
   "source": [
    "# Convert Data Types"
   ]
  },
  {
   "cell_type": "markdown",
   "metadata": {},
   "source": [
    "convert a list of strings to a list of ints or floats\n",
    "analogous for tuples"
   ]
  },
  {
   "cell_type": "code",
   "execution_count": 12,
   "metadata": {},
   "outputs": [
    {
     "name": "stdout",
     "output_type": "stream",
     "text": [
      "[1, 2, 3, 4]\n",
      "(1.0, 2.0, 3.0, 4.0)\n"
     ]
    }
   ],
   "source": [
    "ls1 = ['1', '2', '3', '4']\n",
    "ls2 = list(map(int, ls1))\n",
    "ls3 = tuple(map(float, ls1))\n",
    "print(ls2)\n",
    "print(ls3)"
   ]
  },
  {
   "cell_type": "markdown",
   "metadata": {},
   "source": [
    "covert to binary, output is always string\n",
    "format() and bin() don't work on lists directly"
   ]
  },
  {
   "cell_type": "code",
   "execution_count": 16,
   "metadata": {},
   "outputs": [
    {
     "name": "stdout",
     "output_type": "stream",
     "text": [
      "['00000001', '00000010', '00000011', '00000100', '00001010', '00010100', '00011110', '01100100']\n",
      "['0b1', '0b10', '0b11', '0b100', '0b1010', '0b10100', '0b11110', '0b1100100']\n"
     ]
    }
   ],
   "source": [
    "a = [1, 2, 3, 4, 10, 20, 30, 100]\n",
    "b = []\n",
    "c = []\n",
    "for item in a:\n",
    "    b.append(format(item, '08b'))\n",
    "    c.append(bin(item))\n",
    "    \n",
    "print(b)  \n",
    "print(c)"
   ]
  },
  {
   "cell_type": "markdown",
   "metadata": {},
   "source": [
    "# Input from Console"
   ]
  },
  {
   "cell_type": "markdown",
   "metadata": {},
   "source": [
    "input() can be used to input from python console\n",
    "input() returns a string of what is typed into the console"
   ]
  },
  {
   "cell_type": "code",
   "execution_count": 6,
   "metadata": {},
   "outputs": [
    {
     "name": "stdout",
     "output_type": "stream",
     "text": [
      "1,2,3,4\n"
     ]
    },
    {
     "data": {
      "text/plain": [
       "str"
      ]
     },
     "execution_count": 6,
     "metadata": {},
     "output_type": "execute_result"
    }
   ],
   "source": [
    "n = input()\n",
    "type(n)"
   ]
  },
  {
   "cell_type": "markdown",
   "metadata": {},
   "source": [
    "To convert a comma-seperated input to a list use: .split(',')"
   ]
  },
  {
   "cell_type": "code",
   "execution_count": 7,
   "metadata": {},
   "outputs": [
    {
     "name": "stdout",
     "output_type": "stream",
     "text": [
      "1,2,3,4\n",
      "['1', '2', '3', '4']\n"
     ]
    }
   ],
   "source": [
    "n = input().split(',')\n",
    "type(n)\n",
    "print(n)"
   ]
  },
  {
   "cell_type": "markdown",
   "metadata": {},
   "source": [
    "# Dicts"
   ]
  },
  {
   "cell_type": "markdown",
   "metadata": {},
   "source": [
    "creating a dict"
   ]
  },
  {
   "cell_type": "code",
   "execution_count": 22,
   "metadata": {},
   "outputs": [
    {
     "name": "stdout",
     "output_type": "stream",
     "text": [
      "{'a': 1, 'b': 2, 'c': 3}\n"
     ]
    }
   ],
   "source": [
    "data = {}\n",
    "# OR\n",
    "data = dict()\n",
    "\n",
    "# creating dict with inital values\n",
    "data = {'a':1,'b':2,'c':3}\n",
    "# OR\n",
    "data = dict(a=1, b=2, c=3)\n",
    "# OR\n",
    "data = {k: v for k, v in (('a', 1),('b',2),('c',3))}\n",
    "\n",
    "print(data)"
   ]
  },
  {
   "cell_type": "markdown",
   "metadata": {},
   "source": [
    "iserting por updating values"
   ]
  },
  {
   "cell_type": "code",
   "execution_count": 23,
   "metadata": {},
   "outputs": [
    {
     "name": "stdout",
     "output_type": "stream",
     "text": [
      "{'a': 1, 'b': 2, 'c': 3, 'd': 4}\n"
     ]
    }
   ],
   "source": [
    "# inserting one value\n",
    "data['a']=1  # Updates if 'a' exists, else adds 'a'\n",
    "# OR\n",
    "data.update({'a':1})\n",
    "# OR\n",
    "data.update(dict(a=1))\n",
    "# OR\n",
    "data.update(a=1)\n",
    "\n",
    "# inserting multiple values\n",
    "data.update({'c':3,'d':4})  # Updates 'c' and adds 'd'\n",
    "\n",
    "print(data)"
   ]
  },
  {
   "cell_type": "markdown",
   "metadata": {},
   "source": [
    "Modifying dicts"
   ]
  },
  {
   "cell_type": "code",
   "execution_count": 24,
   "metadata": {},
   "outputs": [
    {
     "name": "stdout",
     "output_type": "stream",
     "text": [
      "{'a': 1, 'b': 2, 'c': 3, 'd': 4}\n"
     ]
    }
   ],
   "source": [
    "data2 = {}\n",
    "data2.update(data)  # Modifies data3, not data\n",
    "\n",
    "print(data2)"
   ]
  },
  {
   "cell_type": "markdown",
   "metadata": {},
   "source": [
    "Deleting items from dict"
   ]
  },
  {
   "cell_type": "code",
   "execution_count": 25,
   "metadata": {},
   "outputs": [
    {
     "name": "stdout",
     "output_type": "stream",
     "text": [
      "{}\n"
     ]
    }
   ],
   "source": [
    "key1 = 'a'\n",
    "key2 = 'b'\n",
    "del data[key1]  # Removes specific element in a dictionary\n",
    "data.pop(key2)  # Removes the key & returns the value\n",
    "data.clear()  # Clears entire dictionary\n",
    "\n",
    "print(data)"
   ]
  },
  {
   "cell_type": "markdown",
   "metadata": {},
   "source": [
    "Iterating through dicts"
   ]
  },
  {
   "cell_type": "code",
   "execution_count": null,
   "metadata": {},
   "outputs": [],
   "source": [
    "key in data # checks if is already in data\n",
    "\n",
    "for key in data: # Iterates just through the keys, ignoring the values\n",
    "    \n",
    "for key, value in d.items(): # Iterates through the pairs\n",
    "    \n",
    "for key in d.keys(): # Iterates just through key, ignoring the values\n",
    "    \n",
    "for value in d.values(): # Iterates just through value, ignoring the keys"
   ]
  },
  {
   "cell_type": "code",
   "execution_count": null,
   "metadata": {},
   "outputs": [],
   "source": []
  }
 ],
 "metadata": {
  "kernelspec": {
   "display_name": "Python 3",
   "language": "python",
   "name": "python3"
  },
  "language_info": {
   "codemirror_mode": {
    "name": "ipython",
    "version": 3
   },
   "file_extension": ".py",
   "mimetype": "text/x-python",
   "name": "python",
   "nbconvert_exporter": "python",
   "pygments_lexer": "ipython3",
   "version": "3.6.4"
  }
 },
 "nbformat": 4,
 "nbformat_minor": 2
}
